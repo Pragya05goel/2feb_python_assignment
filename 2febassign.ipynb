{
 "cells": [
  {
   "cell_type": "markdown",
   "id": "60f6214d-5d59-4bf4-91cf-f3b0d00433af",
   "metadata": {},
   "source": [
    "##                                            ASSIGNMENT"
   ]
  },
  {
   "cell_type": "markdown",
   "id": "3388357f-42e0-4898-b785-60c3feeb373e",
   "metadata": {},
   "source": [
    "Q1. What are the characteristics of the tuples? Is tuple immutable?"
   ]
  },
  {
   "cell_type": "markdown",
   "id": "b5e6fea9-061f-44be-bf1d-022bf73fc81b",
   "metadata": {},
   "source": [
    "Tuples have the given characteristics:\n",
    "\n",
    ". They are indexed\n",
    "\n",
    ". Tuples are ordered\n",
    "\n",
    ". These are immutable\n",
    "\n",
    ". They can contain duplicate items\n",
    "\n",
    "Yes, tuples are immutable."
   ]
  },
  {
   "cell_type": "markdown",
   "id": "b8807078-6660-4eb4-b211-a2a0b8b16663",
   "metadata": {},
   "source": [
    "Q2. What are the two tuple methods in python? Give an example of each method. Give a reason why\n",
    "tuples have only two in-built methods as compared to Lists."
   ]
  },
  {
   "cell_type": "markdown",
   "id": "be6091f3-9788-4d90-a505-4ed901384026",
   "metadata": {},
   "source": [
    "The two tuple methods in python are count,index.\n",
    "\n",
    "Tuples have only two in-built methods because tuples are immutable while lists are mutable."
   ]
  },
  {
   "cell_type": "code",
   "execution_count": 1,
   "id": "52ddf18b-ff75-451a-ad00-59ab7077dd53",
   "metadata": {},
   "outputs": [
    {
     "name": "stdout",
     "output_type": "stream",
     "text": [
      "2\n",
      "3\n"
     ]
    }
   ],
   "source": [
    "## Examples of count(),index()\n",
    "t=(1,2,3,4,5,2,1)\n",
    "print(t.count(1))\n",
    "print(t.index(4))"
   ]
  },
  {
   "cell_type": "markdown",
   "id": "c151b131-4634-4df5-8ff4-f1e0a9fd2fb2",
   "metadata": {},
   "source": [
    "Q3. Which collection datatypes in python do not allow duplicate items? Write a code using a set to remove\n",
    "duplicates from the given list.\n",
    "\n",
    "List = [1, 1, 1, 2, 1, 3, 1, 4, 2, 1, 2, 2, 2, 3, 2, 4, 3, 1, 3, 2, 3, 3, 3, 4, 4, 1, 4, 2, 4, 3, 4, 4]"
   ]
  },
  {
   "cell_type": "markdown",
   "id": "06cbdc4f-d4d2-4d2c-9bd3-075195707e82",
   "metadata": {},
   "source": [
    "The datatypes which do not allow duplicates are sets,  dictionary."
   ]
  },
  {
   "cell_type": "code",
   "execution_count": 2,
   "id": "00d6b9bc-f1af-48fc-8d33-48f8d1a4a742",
   "metadata": {},
   "outputs": [],
   "source": [
    "List = [1, 1, 1, 2, 1, 3, 1, 4, 2, 1, 2, 2, 2, 3, 2, 4, 3, 1, 3, 2, 3, 3, 3, 4, 4, 1, 4, 2, 4, 3, 4, 4]"
   ]
  },
  {
   "cell_type": "code",
   "execution_count": 3,
   "id": "20eede19-0b9f-403b-a0c1-b73472023be6",
   "metadata": {},
   "outputs": [
    {
     "data": {
      "text/plain": [
       "[1, 2, 3, 4]"
      ]
     },
     "execution_count": 3,
     "metadata": {},
     "output_type": "execute_result"
    }
   ],
   "source": [
    "list(set(List))"
   ]
  },
  {
   "cell_type": "markdown",
   "id": "e1ba148e-fb2b-4792-a5dc-3b7bbe3c9d42",
   "metadata": {},
   "source": [
    "Q4. Explain the difference between the union() and update() methods for a set. Give an example of\n",
    "each method."
   ]
  },
  {
   "cell_type": "markdown",
   "id": "d6a08287-ab56-4ced-a539-baae7b07efc9",
   "metadata": {},
   "source": [
    "union() :-\n",
    "\n",
    "This method is used to return the union of a set and the set of elements from one or more iterable like string, list, set. This method takes arbitrary number of iterable objects as argument, which means one or more iterable can be passed. If iterable other than set is passed, it first converts the iterable object to set object and then perform the union operation. It returns a newly created set, which contains all the elements ( distinct ) present in all the iterables.\n"
   ]
  },
  {
   "cell_type": "code",
   "execution_count": 4,
   "id": "7938cc0d-ffa2-4bb1-af57-0d2fe18e0489",
   "metadata": {},
   "outputs": [
    {
     "data": {
      "text/plain": [
       "{1, 2, 3, 4, 5, 6, 7, 8, 9}"
      ]
     },
     "execution_count": 4,
     "metadata": {},
     "output_type": "execute_result"
    }
   ],
   "source": [
    "## Example of union()\n",
    "\n",
    "A = {1, 2, 3, 4, 5}\n",
    "B = {4, 5, 6, 7, 8, 9}\n",
    "A.union(B)"
   ]
  },
  {
   "cell_type": "markdown",
   "id": "0ffebb51-c095-4cf5-bcf0-a84143444dc5",
   "metadata": {},
   "source": [
    "update() :-\n",
    "\n",
    "This method is used to return the union of a set and the set of elements from one or more iterable like string, list, set. It is very similar to union() method, with difference is that where union() method create and return a new set, containing all the elements ( distinct ) present in all the iterables, update() method updates the set on which this method is called with all the distinct elements present in all the iterables."
   ]
  },
  {
   "cell_type": "code",
   "execution_count": 5,
   "id": "72be2d2b-f0d8-4d62-b4be-8549fea06048",
   "metadata": {},
   "outputs": [
    {
     "data": {
      "text/plain": [
       "{1, 2, 3, 4, 5, 6, 7, 8, 9}"
      ]
     },
     "execution_count": 5,
     "metadata": {},
     "output_type": "execute_result"
    }
   ],
   "source": [
    "## Example of update()\n",
    "\n",
    "A = {1, 2, 3, 4, 5}\n",
    "B = {4, 5, 6, 7, 8, 9}\n",
    "A.update(B)\n",
    "A"
   ]
  },
  {
   "cell_type": "markdown",
   "id": "481da95b-daa0-413c-83da-c1e947764c7b",
   "metadata": {},
   "source": [
    "Q5. What is a dictionary? Give an example. Also, state whether a dictionary is ordered or unordered."
   ]
  },
  {
   "cell_type": "markdown",
   "id": "2c6cf496-4c1a-4d21-8f5e-edecc90021a9",
   "metadata": {},
   "source": [
    "A dictionary is a kind of data structure that stores items in key-value pairs. A key is a unique identifier for an item, and a value is the data associated with that key. Dictionaries store information such as words and definitions. Dictionaries are mutable in Python, which means they can be changed after they are created.\n",
    "\n",
    "A dictionary is changeable and do not allow duplicates..\n",
    "\n",
    "Ex-dict2 = {'language' : 'Python', 'course': 'Data Science Masters'}\n",
    "\n",
    "Dictionary is ordered, it means that the items have a defined order, and that order will not change."
   ]
  },
  {
   "cell_type": "markdown",
   "id": "70eeaf05-0f1c-49e7-8405-b1d894697985",
   "metadata": {},
   "source": [
    "Q6. Can we create a nested dictionary? If so, please give an example by creating a simple one-level\n",
    "nested dictionary."
   ]
  },
  {
   "cell_type": "markdown",
   "id": "fd8c6fa8-0f77-4520-8156-7e052b5ccaa7",
   "metadata": {},
   "source": [
    "Yes, we can create a nested dictionary."
   ]
  },
  {
   "cell_type": "code",
   "execution_count": 6,
   "id": "2e8797f1-77cd-4d4d-83cc-495d7a98ccd7",
   "metadata": {},
   "outputs": [
    {
     "data": {
      "text/plain": [
       "{'a': 1, 'b': {'b1': 2, 'b2': 3}}"
      ]
     },
     "execution_count": 6,
     "metadata": {},
     "output_type": "execute_result"
    }
   ],
   "source": [
    "nested_dict={\"a\":1,\"b\":{\"b1\":2,\"b2\":3}}\n",
    "nested_dict"
   ]
  },
  {
   "cell_type": "markdown",
   "id": "36536a4a-e139-4796-8637-aa4a23614ceb",
   "metadata": {},
   "source": [
    "Q7 Using setdefault() method, create key named topics in the given dictionary and also add the value of\n",
    "the key as this list\n",
    "['Python', 'Machine Learning’, 'Deep Learning']\n",
    "\n",
    "dict1 = {'language' : 'Python', 'course': 'Data Science Masters'}"
   ]
  },
  {
   "cell_type": "code",
   "execution_count": 7,
   "id": "2e8d1d9c-5527-45a5-9e85-80ed12731fe4",
   "metadata": {},
   "outputs": [
    {
     "data": {
      "text/plain": [
       "{'language': 'Python',\n",
       " 'course': 'Data Science Masters',\n",
       " 'topics': ['Python', 'Machine Learning', 'Deep Learning']}"
      ]
     },
     "execution_count": 7,
     "metadata": {},
     "output_type": "execute_result"
    }
   ],
   "source": [
    "dict1 = {'language' : 'Python', 'course': 'Data Science Masters'}\n",
    "dict.setdefault(dict1,\"topics\")\n",
    "dict1[\"topics\"]=[\"Python\", \"Machine Learning\", \"Deep Learning\"]\n",
    "dict1"
   ]
  },
  {
   "cell_type": "markdown",
   "id": "34116e2f-8609-4de2-88b7-0fc1c303a383",
   "metadata": {},
   "source": [
    "Q8 What are the three view objects in dictionaries? Use the three in-built methods in python to display\n",
    "these three view objects for the given dictionary.\n",
    "\n",
    "dict1 = {'Sport': 'Cricket' , 'Teams': ['India', 'Australia', 'England', 'South Africa', 'Sri Lanka', 'New Zealand']}"
   ]
  },
  {
   "cell_type": "markdown",
   "id": "fdd67ba0-4ef6-448a-86e2-ccd570f1562b",
   "metadata": {},
   "source": [
    "The view objects of dictionary in python are keys, values and items."
   ]
  },
  {
   "cell_type": "code",
   "execution_count": 8,
   "id": "88bc65c5-13ba-4981-a879-4ee88aeb9361",
   "metadata": {},
   "outputs": [],
   "source": [
    "dict1 = {'Sport': 'Cricket' , 'Teams': ['India', 'Australia', 'England', 'South Africa', 'Sri Lanka', 'New Zealand']}"
   ]
  },
  {
   "cell_type": "code",
   "execution_count": 9,
   "id": "952a2fc0-935e-4948-a662-8f8e69bb69ad",
   "metadata": {},
   "outputs": [
    {
     "name": "stdout",
     "output_type": "stream",
     "text": [
      "['Sport', 'Teams']\n",
      "['Cricket', ['India', 'Australia', 'England', 'South Africa', 'Sri Lanka', 'New Zealand']]\n",
      "[('Sport', 'Cricket'), ('Teams', ['India', 'Australia', 'England', 'South Africa', 'Sri Lanka', 'New Zealand'])]\n"
     ]
    }
   ],
   "source": [
    "d_keys=list(dict1.keys())\n",
    "d_items=list(dict1.items())\n",
    "d_values=list(dict1.values())\n",
    "print(d_keys)\n",
    "print(d_values)\n",
    "print(d_items)"
   ]
  },
  {
   "cell_type": "markdown",
   "id": "61fc7adf-65af-493e-b216-dd20bc2d8b6a",
   "metadata": {},
   "source": [
    "----------------------------"
   ]
  }
 ],
 "metadata": {
  "kernelspec": {
   "display_name": "Python 3 (ipykernel)",
   "language": "python",
   "name": "python3"
  },
  "language_info": {
   "codemirror_mode": {
    "name": "ipython",
    "version": 3
   },
   "file_extension": ".py",
   "mimetype": "text/x-python",
   "name": "python",
   "nbconvert_exporter": "python",
   "pygments_lexer": "ipython3",
   "version": "3.10.8"
  }
 },
 "nbformat": 4,
 "nbformat_minor": 5
}
